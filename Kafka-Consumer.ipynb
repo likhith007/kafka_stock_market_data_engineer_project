{
 "cells": [
  {
   "cell_type": "code",
   "execution_count": 2,
   "id": "d59d92f5",
   "metadata": {},
   "outputs": [],
   "source": [
    "import pandas as pd\n",
    "from kafka import KafkaConsumer\n",
    "from time import sleep\n",
    "from json import dumps,loads\n",
    "import json\n",
    "from s3fs import S3FileSystem"
   ]
  },
  {
   "cell_type": "code",
   "execution_count": 4,
   "id": "e577cdef",
   "metadata": {},
   "outputs": [],
   "source": [
    "consumer = KafkaConsumer(\n",
    "    'demo_testing',\n",
    "     bootstrap_servers=['replaceip:9092'], #add your IP here\n",
    "    value_deserializer=lambda x: loads(x.decode('utf-8')))"
   ]
  },
  {
   "cell_type": "code",
   "execution_count": 9,
   "id": "4c5f9ba2",
   "metadata": {},
   "outputs": [],
   "source": [
    "# for c in consumer:\n",
    "#     print(c.value)"
   ]
  },
  {
   "cell_type": "code",
   "execution_count": null,
   "id": "b4aa5e63",
   "metadata": {},
   "outputs": [],
   "source": [
    "s3 = S3FileSystem()\n",
    "for count, i in enumerate(consumer):\n",
    "    with s3.open(\"s3://likhith777/stock_market_{}.json\".format(count),'w') as file:\n",
    "        json.dump(i.value,file)"
   ]
  }
 ],
 "metadata": {
  "kernelspec": {
   "display_name": "Python 3",
   "language": "python",
   "name": "python3"
  },
  "language_info": {
   "codemirror_mode": {
    "name": "ipython",
    "version": 3
   },
   "file_extension": ".py",
   "mimetype": "text/x-python",
   "name": "python",
   "nbconvert_exporter": "python",
   "pygments_lexer": "ipython3",
   "version": "3.10.9"
  },
  "vscode": {
   "interpreter": {
    "hash": "d6c0d1405e7225c17b0e9d3752da9ef34d1a24ed470c8f81776df1a36c4aab45"
   }
  }
 },
 "nbformat": 4,
 "nbformat_minor": 5
}
