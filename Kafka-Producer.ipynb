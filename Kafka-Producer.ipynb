{
 "cells": [
  {
   "cell_type": "code",
   "execution_count": 1,
   "id": "bda7d1b6",
   "metadata": {},
   "outputs": [],
   "source": [
    "import pandas as pd\n",
    "from kafka import KafkaProducer\n",
    "from time import sleep\n",
    "from json import dumps\n",
    "import json"
   ]
  },
  {
   "cell_type": "code",
   "execution_count": 4,
   "id": "f0426a0c",
   "metadata": {},
   "outputs": [],
   "source": [
    "producer = KafkaProducer(bootstrap_servers=['replaceip:9092'], #change ip here\n",
    "                         value_serializer=lambda x: \n",
    "                         dumps(x).encode('utf-8'))"
   ]
  },
  {
   "cell_type": "code",
   "execution_count": 10,
   "id": "a3cee7cc",
   "metadata": {},
   "outputs": [],
   "source": [
    "df = pd.read_csv('indexProcessed.csv')"
   ]
  },
  {
   "cell_type": "code",
   "execution_count": null,
   "id": "66e5adea",
   "metadata": {},
   "outputs": [],
   "source": [
    "producer.send('demo_testing', value={'name':'likhith3'})"
   ]
  },
  {
   "cell_type": "code",
   "execution_count": null,
   "id": "7f9fbfcb",
   "metadata": {},
   "outputs": [],
   "source": [
    "df.sample(1).to_dict(orient='records')[0]"
   ]
  },
  {
   "cell_type": "code",
   "execution_count": null,
   "id": "b8b0779c",
   "metadata": {},
   "outputs": [],
   "source": [
    "while True:\n",
    "    stock_data = df.sample(1).to_dict(orient='records')[0]\n",
    "    producer.send('demo_testing', value=stock_data)\n",
    "    sleep(1)"
   ]
  },
  {
   "cell_type": "code",
   "execution_count": null,
   "id": "6f2fca63",
   "metadata": {},
   "outputs": [],
   "source": [
    "# producer.flush()"
   ]
  }
 ],
 "metadata": {
  "kernelspec": {
   "display_name": "Python 3",
   "language": "python",
   "name": "python3"
  },
  "language_info": {
   "codemirror_mode": {
    "name": "ipython",
    "version": 3
   },
   "file_extension": ".py",
   "mimetype": "text/x-python",
   "name": "python",
   "nbconvert_exporter": "python",
   "pygments_lexer": "ipython3",
   "version": "3.10.9"
  },
  "vscode": {
   "interpreter": {
    "hash": "d6c0d1405e7225c17b0e9d3752da9ef34d1a24ed470c8f81776df1a36c4aab45"
   }
  }
 },
 "nbformat": 4,
 "nbformat_minor": 5
}
